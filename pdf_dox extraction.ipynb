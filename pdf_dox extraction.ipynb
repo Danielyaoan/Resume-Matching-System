{
 "cells": [
  {
   "cell_type": "code",
   "execution_count": 1,
   "id": "151c2faf",
   "metadata": {},
   "outputs": [],
   "source": [
    "import docx2txt\n",
    "from pdfminer.high_level import extract_text\n",
    "import os"
   ]
  },
  {
   "cell_type": "code",
   "execution_count": 2,
   "id": "d6095210",
   "metadata": {},
   "outputs": [],
   "source": [
    "# verify the file's type\n",
    "def get_file_extension(file_path):\n",
    "    _, file_extension = os.path.splitext(file_path)\n",
    "    return file_extension"
   ]
  },
  {
   "cell_type": "code",
   "execution_count": 3,
   "id": "92e49606",
   "metadata": {},
   "outputs": [],
   "source": [
    "# convert docx to text\n",
    "def docx_to_text(docx_path):\n",
    "    text = docx2txt.process(docx_path)\n",
    "    return text"
   ]
  },
  {
   "cell_type": "code",
   "execution_count": 4,
   "id": "d57e375a",
   "metadata": {},
   "outputs": [],
   "source": [
    "# convert pdf to text\n",
    "def pdf_to_text(pdf_path):\n",
    "    text = extract_text(pdf_path)\n",
    "    return text"
   ]
  },
  {
   "cell_type": "code",
   "execution_count": 5,
   "id": "7e7770f9",
   "metadata": {},
   "outputs": [],
   "source": [
    "def pdf_docx_to_text(file_path):\n",
    "    extension = get_file_extension(file_path)\n",
    "\n",
    "    if extension == '.pdf':\n",
    "        text = pdf_to_text(file_path)\n",
    "    elif extension == '.docx':\n",
    "        text = docx_to_text(file_path)\n",
    "    else:\n",
    "        text = \"The file is neither a PDF nor a DOCX.\"\n",
    "    return text"
   ]
  },
  {
   "cell_type": "code",
   "execution_count": null,
   "id": "4ab316ce",
   "metadata": {},
   "outputs": [],
   "source": []
  }
 ],
 "metadata": {
  "kernelspec": {
   "display_name": "Python 3 (ipykernel)",
   "language": "python",
   "name": "python3"
  },
  "language_info": {
   "codemirror_mode": {
    "name": "ipython",
    "version": 3
   },
   "file_extension": ".py",
   "mimetype": "text/x-python",
   "name": "python",
   "nbconvert_exporter": "python",
   "pygments_lexer": "ipython3",
   "version": "3.11.3"
  }
 },
 "nbformat": 4,
 "nbformat_minor": 5
}
