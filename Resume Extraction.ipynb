{
 "cells": [
  {
   "cell_type": "code",
   "execution_count": 1,
   "id": "d861eee3",
   "metadata": {},
   "outputs": [
    {
     "name": "stderr",
     "output_type": "stream",
     "text": [
      "C:\\anaconda new\\anaconda\\envs\\gpu\\lib\\site-packages\\numpy\\_distributor_init.py:30: UserWarning: loaded more than 1 DLL from .libs:\n",
      "C:\\anaconda new\\anaconda\\envs\\gpu\\lib\\site-packages\\numpy\\.libs\\libopenblas.FB5AE2TYXYH2IJRDKGDGQ3XBKLKTF43H.gfortran-win_amd64.dll\n",
      "C:\\anaconda new\\anaconda\\envs\\gpu\\lib\\site-packages\\numpy\\.libs\\libopenblas64__v0.3.21-gcc_10_3_0.dll\n",
      "  warnings.warn(\"loaded more than 1 DLL from .libs:\"\n"
     ]
    }
   ],
   "source": [
    "import numpy as np\n",
    "import pandas as pd\n",
    "import re\n",
    "import matplotlib.pyplot as plt\n",
    "import seaborn as sns\n",
    "import pickle\n",
    "import random\n",
    "import os\n"
   ]
  },
  {
   "cell_type": "code",
   "execution_count": 2,
   "id": "e7ebf526",
   "metadata": {},
   "outputs": [],
   "source": [
    "resume_data = pd.read_csv('data/final data/resume_data.csv')"
   ]
  },
  {
   "cell_type": "code",
   "execution_count": 3,
   "id": "3b7b6a32",
   "metadata": {},
   "outputs": [
    {
     "data": {
      "text/plain": [
       "3    Ijas Nizamuddin Associate Consultant - State Street  Irinchayam B.O, Kerala - Email me on Indeed: indeed.com/r/Ijas- Nizamuddin/6748d77f76f94eed  With close to 3 years of experience in IT industry, I have had excellent exposure to design, development and implementation of Client Server Applications in various domains such as Banking and Finance concepts. I have been involved in various software Development projects in Open System environment.  WORK EXPERIENCE  Associate Consultant  Oracle Corporation -  June 2011 to Present  State Street Global Advisors (SSgA) is the asset management business of State Street Corporation, one of the world's leading providers of financial services to institutional investors1, with a heritage dating back over two centuries. Backed by the strength and stability of the State Street organization, SSgA makes continual investments in asset management and client service platform, resulting in a client-focused, solutions-driven orientation .BrokerViews is the application which list all the details about the counterparties who invest their securities in State Street.The details also include ratings given by Bloomberg.  Responsibilities: Development, Testing and support. Software Used: Java, GWT  Associate Consultant  Oracle Corporation -  Bangalore, Karnataka -  May 2010 to June 2011  This project is actually a redesign of an existing client website. The client website was designed on Java Server Pages (JSP) and our aim was to change it into a more dynamic web page using Adobe Flex. At first we changed the home page screen of the client website. After the successful completion of that we incorporated flex in to the account section also. This data which is obtained from DataBase is taken by the flex using a remote procedure call and the data is shown to the user. With the use of Advanced Data Grids, Charts(including Bar and Pie Charts) the site increased the readability and understandability of the users who were previously using the pages on java server pages. This site developed by us won the IMC (Interactive Media Council)'s outstanding achievement award in Financial information. The judge evaluate website based on 5 criteria: Design, Content, Feature Functionality, Usability and Standard Compliance. Our website scored 475 out of a maximum of 500 points. . Responsibilities: Development, Testing and support. Software Used: Java, Adobe Flex  https://www.indeed.com/r/Ijas-Nizamuddin/6748d77f76f94eed?isid=rex-download&ikw=download-top&co=IN https://www.indeed.com/r/Ijas-Nizamuddin/6748d77f76f94eed?isid=rex-download&ikw=download-top&co=IN   Framework: Springs, MVC  Associate Consultant  Oracle Corporation -  Bangalore, Karnataka -  February 2010 to April 2010  Description: Development of Basel II Application, Basel II is the second of the Basel Accords, which are recommendations on banking laws and regulations issued by the Basel Committee on Banking Supervision. The purpose of Basel II, which was initially published in June 2004, is to create an international standard that banking regulators can use when creating regulations about how much capital banks need to put aside to guard against the types of financial and operational risks banks face. In practice, Basel II attempts to accomplish this by setting up rigorous risk and capital management requirements designed to ensure that a bank holds capital reserves appropriate to the risk the bank exposes itself to through its lending and investment practices.  The New Accord includes several methodologies for determining a bank's risk-based capital requirements for credit, market and operational risk. For Risk Based Capital (RBC), Credit Usage (CU) and Stress Test (ST), the methodologies that will be used for repo style transactions are Simple VaR if the collateral is eligible. If the collateral is ineligible then the Wholesale loan approach will be utilized or the collateral will be reduced to zero in the Simple VaR. . Roles and Responsibilities: Development, Testing and support. Software Used: Oracle 9i  OTHER PROJECTS AND REAL TIME TRAINING:  RTRM(Railway Ticketing System Through Mobile) A mobile based real time application with many exciting features like checking pnr status, train availability, trains between stations etc. This application was done in j2me and it uses weblogic as server and MSSQL as the database.  Undergone a mandatory Training on Finance By Oracle Corporation  EDUCATION  Birla Institute Of Technology -  Pilani, Rajasthan  2011  Bachelor of Technology in Computer Science  University College Of Engineering, University Of Kerala  2005 to 2009  ADDITIONAL INFORMATION  SKILL SET:    Languages: Core Java Front end/GUI Tools programming: Adobe Flex, GWT Database: Oracle 10g IDE: Eclipse, FlexBuilder FrameWorks: Spring(Basics), MVC frame work Operating System: Windows, Linux, Unix\n",
       "Name: Resume, dtype: object"
      ]
     },
     "execution_count": 3,
     "metadata": {},
     "output_type": "execute_result"
    }
   ],
   "source": [
    "pd.set_option('display.max_colwidth', None)\n",
    "resume_data.iloc[[3]]['Resume']"
   ]
  },
  {
   "cell_type": "code",
   "execution_count": 4,
   "id": "6f7291ba",
   "metadata": {},
   "outputs": [],
   "source": [
    "import openai"
   ]
  },
  {
   "cell_type": "code",
   "execution_count": 5,
   "id": "c933819b",
   "metadata": {},
   "outputs": [],
   "source": [
    "# make use of openai api to perform text extraction and summarization\n",
    "openai.api_key = \"Your-openai-api-key\"\n",
    "\n",
    "prompt = \"Extract 'EDUCATION', 'SKILLS', 'EXPERIENCE', 'INTEREST' section seperately from this resume and limit the number of words to 500: \"\n",
    "resume_text = str(resume_data.iloc[[3]]['Resume'])\n",
    "\n",
    "response = openai.Completion.create(\n",
    "    engine=\"text-davinci-003\",\n",
    "    prompt=prompt+resume_text,\n",
    "    temperature=0.0,\n",
    "    max_tokens=400,\n",
    "    top_p=1,\n",
    "    frequency_penalty=1.0,\n",
    "    presence_penalty=1.2,\n",
    "    stop=None,\n",
    "    n=1,\n",
    ")"
   ]
  },
  {
   "cell_type": "code",
   "execution_count": 6,
   "id": "e55194cf",
   "metadata": {},
   "outputs": [
    {
     "name": "stdout",
     "output_type": "stream",
     "text": [
      "EDUCATION: \n",
      "Birla Institute Of Technology - Pilani, Rajasthan 2011 Bachelor of Technology in Computer Science University College Of Engineering, University Of Kerala 2005 to 2009 \n",
      "SKILLS: Languages: Core Java Front end/GUI Tools programming: Adobe Flex, GWT Database: Oracle 10g IDE: Eclipse, FlexBuilder FrameWorks: Spring(Basics), MVC frame work Operating System: Windows, Linux, Unix \n",
      "EXPERIENCE : Associate Consultant Oracle Corporation - June 2011 to Present State Street Global Advisors (SSgA) is the asset management business of State Street Corporation. Responsibilities included development and testing using Java and GWT. Associate Consultant Oracle Corporation - Bangalore May 2010 to June 2011 Redesigned an existing client website from JSP into a dynamic web page using Adobe Flex. Won IMC's outstanding achievement award for Financial Information with 475 out of 500 points. Responsibilities included development and testing using Java and Adobe Flex. Associate Consultant Oracle Corporation- Bangalore February 2010 to April 2010 Developed Basel II Application which sets up rigorous risk and capital management requirements designed to ensure that a bank holds capital reserves appropriate to the risk it exposes itself too through its lending and investment practices. Used Oracle 9i for development, testing and support. OTHER PROJECTS AND REAL TIME TRAINING : RTRM (Railway Ticketing System Through Mobile) A mobile based real time application developed in j2me with weblogic as server & MSSQL as database; underwent mandatory training on Finance by Oracle Corporation .  \n",
      "INTERESTS : Enjoy reading books related to technology & finance; interested in exploring new technologies & software tools; like playing cricket during leisure time\n"
     ]
    }
   ],
   "source": [
    "section = response.choices[0].text.strip()\n",
    "print(section)"
   ]
  },
  {
   "cell_type": "code",
   "execution_count": 9,
   "id": "ca39264f",
   "metadata": {},
   "outputs": [
    {
     "name": "stdout",
     "output_type": "stream",
     "text": [
      "EDUCATION:\n",
      "- : \n",
      "Birla Institute Of Technology - Pilani, Rajasthan 2011 Bachelor of Technology in Computer Science University College Of Engineering, University Of Kerala 2005 to 2009\n",
      "\n",
      "\n",
      "SKILLS:\n",
      "- : Languages: Core Java Front end/GUI Tools programming: Adobe Flex, GWT Database: Oracle 10g IDE: Eclipse, FlexBuilder FrameWorks: Spring(Basics), MVC frame work Operating System: Windows, Linux, Unix\n",
      "\n",
      "\n",
      "EXPERIENCE:\n",
      "- : Associate Consultant Oracle Corporation - June 2011 to Present State Street Global Advisors (SSgA) is the asset management business of State Street Corporation. Responsibilities included development and testing using Java and GWT. Associate Consultant Oracle Corporation - Bangalore May 2010 to June 2011 Redesigned an existing client website from JSP into a dynamic web page using Adobe Flex. Won IMC's outstanding achievement award for Financial Information with 475 out of 500 points. Responsibilities included development and testing using Java and Adobe Flex. Associate Consultant Oracle Corporation- Bangalore February 2010 to April 2010 Developed Basel II Application which sets up rigorous risk and capital management requirements designed to ensure that a bank holds capital reserves appropriate to the risk it exposes itself too through its lending and investment practices. Used Oracle 9i for development, testing and support. OTHER PROJECTS AND REAL TIME TRAINING : RTRM (Railway Ticketing System Through Mobile) A mobile based real time application developed in j2me with weblogic as server & MSSQL as database; underwent mandatory training on Finance by Oracle Corporation .\n",
      "\n",
      "\n",
      "INTEREST:\n",
      "- : Enjoy reading books related to technology & finance; interested in exploring new technologies & software tools; like playing cricket during leisure time\n",
      "\n",
      "\n"
     ]
    }
   ],
   "source": [
    "# visualize important information in a pretty way\n",
    "section = response.choices[0].text.strip()\n",
    "\n",
    "education = \"\"\n",
    "skills = \"\"\n",
    "experience = \"\"\n",
    "interest = \"\"\n",
    "\n",
    "skill_index = section.index('SKILLS')\n",
    "education_index = section.index('EDUCATION')\n",
    "experience_index = section.index('EXPERIENCE')\n",
    "if 'INTEREST' in section:\n",
    "    interest_index = section.index('INTEREST')\n",
    "else:\n",
    "    interest_index = 0\n",
    "\n",
    "if interest_index == 0:\n",
    "    index = (skill_index, education_index, experience_index)\n",
    "else:\n",
    "    index = (skill_index, education_index, experience_index, interest_index)\n",
    "\n",
    "order = sorted(index)\n",
    "\n",
    "for i in range(len(order)):\n",
    "    if order[i]==skill_index:\n",
    "        if i==len(order)-1:\n",
    "            skills += section[order[i]+6:len(section)].strip() + '\\n'\n",
    "        else:\n",
    "            skills += section[order[i]+6:order[i+1]-1].strip() + '\\n'\n",
    "    elif order[i]==education_index:\n",
    "        if i==len(order)-1:\n",
    "            education += section[order[i]+9:len(section)].strip() + '\\n'\n",
    "        else:\n",
    "            education += section[order[i]+9:order[i+1]-1].strip() + '\\n'\n",
    "    elif order[i]==experience_index:\n",
    "        if i==len(order)-1:\n",
    "            experience += section[order[i]+10:len(section)].strip() + '\\n'\n",
    "        else:\n",
    "            experience += section[order[i]+10:order[i+1]-1].strip() + '\\n'\n",
    "    elif order[i]==interest_index:\n",
    "        if i==len(order)-1:\n",
    "            interest += section[order[i]+9:len(section)].strip() + '\\n'\n",
    "        else:\n",
    "            interest += section[order[i]+9:order[i+1]-1].strip() + '\\n'\n",
    "    \n",
    "\n",
    "        \n",
    "resume = f\"\"\"EDUCATION:\n",
    "- {education}\n",
    "\n",
    "SKILLS:\n",
    "- {skills}\n",
    "\n",
    "EXPERIENCE:\n",
    "- {experience}\n",
    "\n",
    "INTEREST:\n",
    "- {interest}\n",
    "\"\"\"\n",
    "\n",
    "print(resume)"
   ]
  },
  {
   "cell_type": "markdown",
   "id": "58b1f9ca",
   "metadata": {},
   "source": [
    "## ----------------------------------------------------------------------------"
   ]
  },
  {
   "cell_type": "markdown",
   "id": "cf98360f",
   "metadata": {},
   "source": [
    "### Randomly select 10 resume for matching use."
   ]
  },
  {
   "cell_type": "code",
   "execution_count": 18,
   "id": "6b8b8d07",
   "metadata": {},
   "outputs": [],
   "source": [
    "resume_match = []\n",
    "randomlist = random.sample(range(401), 10)"
   ]
  },
  {
   "cell_type": "code",
   "execution_count": 52,
   "id": "914d8b94",
   "metadata": {},
   "outputs": [],
   "source": [
    "rnd_index = randomlist[9]"
   ]
  },
  {
   "cell_type": "code",
   "execution_count": 53,
   "id": "36ea6261",
   "metadata": {},
   "outputs": [],
   "source": [
    "openai.api_key = \"Your-openai-api-key\"\n",
    "\n",
    "prompt = \"Extract education, key skills, experiences from this resume and limit the number of words to 150: \"\n",
    "resume_text = str(resume_data.iloc[[rnd_index]]['Resume'])\n",
    "\n",
    "response = openai.Completion.create(\n",
    "    engine=\"text-davinci-003\",\n",
    "    prompt=prompt+resume_text,\n",
    "    temperature=0.0,\n",
    "    max_tokens=400,\n",
    "    top_p=1,\n",
    "    frequency_penalty=1.0,\n",
    "    presence_penalty=1.2,\n",
    "    stop=None,\n",
    "    n=1,\n",
    ")"
   ]
  },
  {
   "cell_type": "code",
   "execution_count": 54,
   "id": "f28bcbcc",
   "metadata": {},
   "outputs": [
    {
     "name": "stdout",
     "output_type": "stream",
     "text": [
      "Education: PGDBM in Business Management from Narsee Monji. \n",
      "Key Skills: Datawarehouse/Business Intelligence, Agile Methodologies, Program Management, Product Roadmap, Stakeholder Management and Risk Management. \n",
      "Experience: 15+ years of experience in IT & Services Industry with multiple roles such as DevOps Architect, Program Manager/Product Owner and Consultant. Delivered engagements in US, UK etc., built analytical platforms and solutions using .Net MVC API etc., expertise on Quality Assurance & Continuous Quality Process setup & implementation and Presales.\n"
     ]
    }
   ],
   "source": [
    "section = response.choices[0].text.strip()\n",
    "print(section)"
   ]
  },
  {
   "cell_type": "code",
   "execution_count": 116,
   "id": "12e100fc",
   "metadata": {},
   "outputs": [],
   "source": [
    "education = \"\"\n",
    "skills_experiences = \"\"\n",
    "\n",
    "education_index = section.index('Education')\n",
    "skill_experiences_index = section.index('Key Skills')\n",
    "\n",
    "\n",
    "education += section[education_index+10:skill_experiences_index-1].strip()\n",
    "skills_experiences += section[skill_experiences_index+11:len(section)].strip()"
   ]
  },
  {
   "cell_type": "code",
   "execution_count": 117,
   "id": "fb3311a9",
   "metadata": {},
   "outputs": [
    {
     "data": {
      "text/plain": [
       "[[\"Education: BE from NMAM Institute of Technology, Poorna Prajna PU College Admar and Ganapathi High School Padubidri. \\nKey Skills: C programming basics, Core java, SQL/PLSQL, Quick learner and team player, Good communication skills, Art of convincing and Public speaking. \\nExperience: 3 months trining at Infosys; Effectiveness Lab Organizational Effectiveness Labs and Immersive Group Workshop conducted by I-Point Consulting Services Private Limited during the Academic Years 2009-10 & 2010-11; Successfully completed ' Feel Employable' Learning And Development Intervention conducted by AIM INSIGHTS Mangalore; 7 Seminars given on Enzymatic Hydrolysis of Complex Carbohydrates to produce Fermentable and Digestible Sugars; 8 Seminars attended on Microbial Polysaccarides.\",\n",
       "  'BE from NMAM Institute of Technology, Poorna Prajna PU College Admar and Ganapathi High School Padubidri.',\n",
       "  \"C programming basics, Core java, SQL/PLSQL, Quick learner and team player, Good communication skills, Art of convincing and Public speaking. \\nExperience: 3 months trining at Infosys; Effectiveness Lab Organizational Effectiveness Labs and Immersive Group Workshop conducted by I-Point Consulting Services Private Limited during the Academic Years 2009-10 & 2010-11; Successfully completed ' Feel Employable' Learning And Development Intervention conducted by AIM INSIGHTS Mangalore; 7 Seminars given on Enzymatic Hydrolysis of Complex Carbohydrates to produce Fermentable and Digestible Sugars; 8 Seminars attended on Microbial Polysaccarides.\"],\n",
       " ['Education: B.E. in E&TC (2015), Diploma (2012), SSC (2009). Key Skills: C, CSS, Database, Dot, Java. Experiences: Fresher; B.E Project - Designer and Tester; Diploma Project - Designer and Tester; Certifications/Licenses - SCTS dot net developer & PSTS software tester; Other Technical Skills - Basic Java, CSS, C#, SQL MVC & Dot Net.',\n",
       "  'B.E. in E&TC (2015), Diploma (2012), SSC (2009).',\n",
       "  'C, CSS, Database, Dot, Java. Experiences: Fresher; B.E Project - Designer and Tester; Diploma Project - Designer and Tester; Certifications/Licenses - SCTS dot net developer & PSTS software tester; Other Technical Skills - Basic Java, CSS, C#, SQL MVC & Dot Net.'],\n",
       " ['Education: PGDBM from Narsee Monjee Institute of Management Studies (2017-2018) \\nKey Skills: Microsoft Azure SQL DW, Azure Data Factory, SQL Server 2016, Power BI dashboard, Rest API; Program Management (2 years), Product Management (2 years), Quality Assurance (10+ years), Business intelligence, Devops; Visual Studio 2012, Microsoft Test Manager 2012, Azure, Test Automation using Coded UI, Unit Test Framework; Scrum Product Owner & Master. \\nExperience: 10+ yrs in Quality Assurance with roles such as Architect at Microsoft India for 5 yrs and Sr Consultant for 4 yrs. Managed test teams for Data Warehouse/SQL Server BI projects & .Net App Development Projects. Played role of Test Lead/Manager in all engagements.',\n",
       "  'PGDBM from Narsee Monjee Institute of Management Studies (2017-2018)',\n",
       "  'Microsoft Azure SQL DW, Azure Data Factory, SQL Server 2016, Power BI dashboard, Rest API; Program Management (2 years), Product Management (2 years), Quality Assurance (10+ years), Business intelligence, Devops; Visual Studio 2012, Microsoft Test Manager 2012, Azure, Test Automation using Coded UI, Unit Test Framework; Scrum Product Owner & Master. \\nExperience: 10+ yrs in Quality Assurance with roles such as Architect at Microsoft India for 5 yrs and Sr Consultant for 4 yrs. Managed test teams for Data Warehouse/SQL Server BI projects & .Net App Development Projects. Played role of Test Lead/Manager in all engagements.'],\n",
       " ['Education: Bachelor Of Technology in insurance from SRIKALAHASTEESWARA INSTITUTE OF TECHNOLOGY \\nKey Skills: file systems, Linux, maintenance, scheduling \\nExperience: 2.1 years of Experience in IT; Currently working as a Linux Administration at Infosys; Knowledge in installing and maintenance and troubleshooting Linux Operating Systems; Installation, Configuration, Maintenance and Administration of Red Hat Enterprise 5/6; Checking CPU Utilization, Memory Utilization & Disk Utilization for performance monitoring; Managing User Administration; Creating new file systems through LVM etc.',\n",
       "  'Bachelor Of Technology in insurance from SRIKALAHASTEESWARA INSTITUTE OF TECHNOLOGY',\n",
       "  'file systems, Linux, maintenance, scheduling \\nExperience: 2.1 years of Experience in IT; Currently working as a Linux Administration at Infosys; Knowledge in installing and maintenance and troubleshooting Linux Operating Systems; Installation, Configuration, Maintenance and Administration of Red Hat Enterprise 5/6; Checking CPU Utilization, Memory Utilization & Disk Utilization for performance monitoring; Managing User Administration; Creating new file systems through LVM etc.'],\n",
       " [\"Education: Bachelor's Degree in Computer Science \\nKey Skills: HTML/HTML5, CSS/CSS3, SASS, LESS, JavaScript, AngularJS, AJAX, JSON, Bootstrap, JQuery NodeJS ECMAScript 6 MongoDB Cordova and Ionic Framework (basics), Angular 2 Typescript Backbone.js and React (POCS) \\nExperience: 6+ years of experience in Web Application Development with a focus on Front-end Development; Proficiency in Software Development Life Cycle (SDLC); Hands on experience in Front-end Web Design & Dev using HTML5 CSS3 JavaScript jQuery AJAX; Solid Experience of web service using Ajax for processing JSON/XML between front-end & back-end; Strong Experience w/ Twitter Bootstrap 3 framework & Media Query to create responsive websites; Experienced w/ Design Dev of web apps using Apache Tomcat 7.x/8.x Server; Hands-on exp handling response data from RESTful WSs using XML JSON; Used Bower as Web tools for successful implem of dependencies; Used Gulp & Grunt as task runner.\",\n",
       "  \"Bachelor's Degree in Computer Science\",\n",
       "  'HTML/HTML5, CSS/CSS3, SASS, LESS, JavaScript, AngularJS, AJAX, JSON, Bootstrap, JQuery NodeJS ECMAScript 6 MongoDB Cordova and Ionic Framework (basics), Angular 2 Typescript Backbone.js and React (POCS) \\nExperience: 6+ years of experience in Web Application Development with a focus on Front-end Development; Proficiency in Software Development Life Cycle (SDLC); Hands on experience in Front-end Web Design & Dev using HTML5 CSS3 JavaScript jQuery AJAX; Solid Experience of web service using Ajax for processing JSON/XML between front-end & back-end; Strong Experience w/ Twitter Bootstrap 3 framework & Media Query to create responsive websites; Experienced w/ Design Dev of web apps using Apache Tomcat 7.x/8.x Server; Hands-on exp handling response data from RESTful WSs using XML JSON; Used Bower as Web tools for successful implem of dependencies; Used Gulp & Grunt as task runner.'],\n",
       " ['Education: B.Tech in Electronics and Communications (2013), Sri Chaitanya Junior College Hyderabad, Board of Intermediate Education (2009). \\nKey Skills: Database (3 years), Eclipse (3 years), iOS (3 years), Java (3 years), JSON. (3 years) \\nExperiences: Application Developer at IBM India Pvt. Ltd for 3+ yrs; Involved in design, development, testing, troubleshooting & debugging of software; Carried out system study & coordinated with team members for product documentation, system design & integration; Provided post-implementation support to client w/regard to software application; Maintained integrity & traceability of products as they evolve from user needs through requirement analysis etc.; Liaised with key clients & acquired profitable business for providing systems support.',\n",
       "  'B.Tech in Electronics and Communications (2013), Sri Chaitanya Junior College Hyderabad, Board of Intermediate Education (2009).',\n",
       "  'Database (3 years), Eclipse (3 years), iOS (3 years), Java (3 years), JSON. (3 years) \\nExperiences: Application Developer at IBM India Pvt. Ltd for 3+ yrs; Involved in design, development, testing, troubleshooting & debugging of software; Carried out system study & coordinated with team members for product documentation, system design & integration; Provided post-implementation support to client w/regard to software application; Maintained integrity & traceability of products as they evolve from user needs through requirement analysis etc.; Liaised with key clients & acquired profitable business for providing systems support.'],\n",
       " ['Education: Engineering in Computer Science from JEC Jaipur. \\nKey Skills: MS Office, Libra Office, Internet Application, MS Excel 2016, HTML, SQL, Core Java. \\nExperience: 1.6 years of successful experience in position of increasing responsibility and duties; Hands on experience with various banking software such as Finacle 10; FCRM its oracle based system; People Soft; Passion to work under varied circumstances and a strong commitment towards accomplishing Individual and Organizational Objectives.',\n",
       "  'Engineering in Computer Science from JEC Jaipur.',\n",
       "  'MS Office, Libra Office, Internet Application, MS Excel 2016, HTML, SQL, Core Java. \\nExperience: 1.6 years of successful experience in position of increasing responsibility and duties; Hands on experience with various banking software such as Finacle 10; FCRM its oracle based system; People Soft; Passion to work under varied circumstances and a strong commitment towards accomplishing Individual and Organizational Objectives.'],\n",
       " ['Education: B.E. in ENC from North Maharashtra University (2017). \\nKey Skills: C++, Databases, Eclipse, Essbase, Hyperion, Python and Java. \\nExperience: Associate Software Engineer at Oracle India Pvt Ltd., experience with Oracle Hyperion Products and Automation Scripting using Python and batch scripting; application maintenance and client support.',\n",
       "  'B.E. in ENC from North Maharashtra University (2017).',\n",
       "  'C++, Databases, Eclipse, Essbase, Hyperion, Python and Java. \\nExperience: Associate Software Engineer at Oracle India Pvt Ltd., experience with Oracle Hyperion Products and Automation Scripting using Python and batch scripting; application maintenance and client support.'],\n",
       " ['Education: B.Tech, Institute of Road and Transport (May-October 1980) \\nKey Skills: Core Java, JavaScript, OOJS, HTML 4/5, CSS 3, DOJO, Angular JS , REST Web services \\nExperience: Lead Engineer at Cisco (June 2014 - Present); Senior Systems Engineer at Finacle Industry Banking Client Universal Banking Product from Infosys (June 2012 - June 2014); Systems Engineer at Finacle Industry Banking Client Universal Banking Product from Infosys (October 2011 - May 2012). Responsibilities included front end enhancements for the core product; discussing and finalizing UI screens with functional and design teams; writing validation routines; regression testing using Service Testing Framework.',\n",
       "  'B.Tech, Institute of Road and Transport (May-October 1980)',\n",
       "  'Core Java, JavaScript, OOJS, HTML 4/5, CSS 3, DOJO, Angular JS , REST Web services \\nExperience: Lead Engineer at Cisco (June 2014 - Present); Senior Systems Engineer at Finacle Industry Banking Client Universal Banking Product from Infosys (June 2012 - June 2014); Systems Engineer at Finacle Industry Banking Client Universal Banking Product from Infosys (October 2011 - May 2012). Responsibilities included front end enhancements for the core product; discussing and finalizing UI screens with functional and design teams; writing validation routines; regression testing using Service Testing Framework.'],\n",
       " ['Education: PGDBM in Business Management from Narsee Monji. \\nKey Skills: Datawarehouse/Business Intelligence, Agile Methodologies, Program Management, Product Roadmap, Stakeholder Management and Risk Management. \\nExperience: 15+ years of experience in IT & Services Industry with multiple roles such as DevOps Architect, Program Manager/Product Owner and Consultant. Delivered engagements in US, UK etc., built analytical platforms and solutions using .Net MVC API etc., expertise on Quality Assurance & Continuous Quality Process setup & implementation and Presales.',\n",
       "  'PGDBM in Business Management from Narsee Monji.',\n",
       "  'Datawarehouse/Business Intelligence, Agile Methodologies, Program Management, Product Roadmap, Stakeholder Management and Risk Management. \\nExperience: 15+ years of experience in IT & Services Industry with multiple roles such as DevOps Architect, Program Manager/Product Owner and Consultant. Delivered engagements in US, UK etc., built analytical platforms and solutions using .Net MVC API etc., expertise on Quality Assurance & Continuous Quality Process setup & implementation and Presales.']]"
      ]
     },
     "execution_count": 117,
     "metadata": {},
     "output_type": "execute_result"
    }
   ],
   "source": [
    "temporary = list((section, education, skills_experiences))\n",
    "resume_match.append(temporary)\n",
    "resume_match"
   ]
  },
  {
   "cell_type": "code",
   "execution_count": 118,
   "id": "f19d63ff",
   "metadata": {},
   "outputs": [
    {
     "data": {
      "text/html": [
       "<div>\n",
       "<style scoped>\n",
       "    .dataframe tbody tr th:only-of-type {\n",
       "        vertical-align: middle;\n",
       "    }\n",
       "\n",
       "    .dataframe tbody tr th {\n",
       "        vertical-align: top;\n",
       "    }\n",
       "\n",
       "    .dataframe thead th {\n",
       "        text-align: right;\n",
       "    }\n",
       "</style>\n",
       "<table border=\"1\" class=\"dataframe\">\n",
       "  <thead>\n",
       "    <tr style=\"text-align: right;\">\n",
       "      <th></th>\n",
       "      <th>Extracted</th>\n",
       "      <th>Education</th>\n",
       "      <th>Skills &amp; Experience</th>\n",
       "    </tr>\n",
       "  </thead>\n",
       "  <tbody>\n",
       "    <tr>\n",
       "      <th>0</th>\n",
       "      <td>Education: BE from NMAM Institute of Technology, Poorna Prajna PU College Admar and Ganapathi High School Padubidri. \\nKey Skills: C programming basics, Core java, SQL/PLSQL, Quick learner and team player, Good communication skills, Art of convincing and Public speaking. \\nExperience: 3 months trining at Infosys; Effectiveness Lab Organizational Effectiveness Labs and Immersive Group Workshop conducted by I-Point Consulting Services Private Limited during the Academic Years 2009-10 &amp; 2010-11; Successfully completed ' Feel Employable' Learning And Development Intervention conducted by AIM INSIGHTS Mangalore; 7 Seminars given on Enzymatic Hydrolysis of Complex Carbohydrates to produce Fermentable and Digestible Sugars; 8 Seminars attended on Microbial Polysaccarides.</td>\n",
       "      <td>BE from NMAM Institute of Technology, Poorna Prajna PU College Admar and Ganapathi High School Padubidri.</td>\n",
       "      <td>C programming basics, Core java, SQL/PLSQL, Quick learner and team player, Good communication skills, Art of convincing and Public speaking. \\nExperience: 3 months trining at Infosys; Effectiveness Lab Organizational Effectiveness Labs and Immersive Group Workshop conducted by I-Point Consulting Services Private Limited during the Academic Years 2009-10 &amp; 2010-11; Successfully completed ' Feel Employable' Learning And Development Intervention conducted by AIM INSIGHTS Mangalore; 7 Seminars given on Enzymatic Hydrolysis of Complex Carbohydrates to produce Fermentable and Digestible Sugars; 8 Seminars attended on Microbial Polysaccarides.</td>\n",
       "    </tr>\n",
       "    <tr>\n",
       "      <th>1</th>\n",
       "      <td>Education: B.E. in E&amp;TC (2015), Diploma (2012), SSC (2009). Key Skills: C, CSS, Database, Dot, Java. Experiences: Fresher; B.E Project - Designer and Tester; Diploma Project - Designer and Tester; Certifications/Licenses - SCTS dot net developer &amp; PSTS software tester; Other Technical Skills - Basic Java, CSS, C#, SQL MVC &amp; Dot Net.</td>\n",
       "      <td>B.E. in E&amp;TC (2015), Diploma (2012), SSC (2009).</td>\n",
       "      <td>C, CSS, Database, Dot, Java. Experiences: Fresher; B.E Project - Designer and Tester; Diploma Project - Designer and Tester; Certifications/Licenses - SCTS dot net developer &amp; PSTS software tester; Other Technical Skills - Basic Java, CSS, C#, SQL MVC &amp; Dot Net.</td>\n",
       "    </tr>\n",
       "    <tr>\n",
       "      <th>2</th>\n",
       "      <td>Education: PGDBM from Narsee Monjee Institute of Management Studies (2017-2018) \\nKey Skills: Microsoft Azure SQL DW, Azure Data Factory, SQL Server 2016, Power BI dashboard, Rest API; Program Management (2 years), Product Management (2 years), Quality Assurance (10+ years), Business intelligence, Devops; Visual Studio 2012, Microsoft Test Manager 2012, Azure, Test Automation using Coded UI, Unit Test Framework; Scrum Product Owner &amp; Master. \\nExperience: 10+ yrs in Quality Assurance with roles such as Architect at Microsoft India for 5 yrs and Sr Consultant for 4 yrs. Managed test teams for Data Warehouse/SQL Server BI projects &amp; .Net App Development Projects. Played role of Test Lead/Manager in all engagements.</td>\n",
       "      <td>PGDBM from Narsee Monjee Institute of Management Studies (2017-2018)</td>\n",
       "      <td>Microsoft Azure SQL DW, Azure Data Factory, SQL Server 2016, Power BI dashboard, Rest API; Program Management (2 years), Product Management (2 years), Quality Assurance (10+ years), Business intelligence, Devops; Visual Studio 2012, Microsoft Test Manager 2012, Azure, Test Automation using Coded UI, Unit Test Framework; Scrum Product Owner &amp; Master. \\nExperience: 10+ yrs in Quality Assurance with roles such as Architect at Microsoft India for 5 yrs and Sr Consultant for 4 yrs. Managed test teams for Data Warehouse/SQL Server BI projects &amp; .Net App Development Projects. Played role of Test Lead/Manager in all engagements.</td>\n",
       "    </tr>\n",
       "    <tr>\n",
       "      <th>3</th>\n",
       "      <td>Education: Bachelor Of Technology in insurance from SRIKALAHASTEESWARA INSTITUTE OF TECHNOLOGY \\nKey Skills: file systems, Linux, maintenance, scheduling \\nExperience: 2.1 years of Experience in IT; Currently working as a Linux Administration at Infosys; Knowledge in installing and maintenance and troubleshooting Linux Operating Systems; Installation, Configuration, Maintenance and Administration of Red Hat Enterprise 5/6; Checking CPU Utilization, Memory Utilization &amp; Disk Utilization for performance monitoring; Managing User Administration; Creating new file systems through LVM etc.</td>\n",
       "      <td>Bachelor Of Technology in insurance from SRIKALAHASTEESWARA INSTITUTE OF TECHNOLOGY</td>\n",
       "      <td>file systems, Linux, maintenance, scheduling \\nExperience: 2.1 years of Experience in IT; Currently working as a Linux Administration at Infosys; Knowledge in installing and maintenance and troubleshooting Linux Operating Systems; Installation, Configuration, Maintenance and Administration of Red Hat Enterprise 5/6; Checking CPU Utilization, Memory Utilization &amp; Disk Utilization for performance monitoring; Managing User Administration; Creating new file systems through LVM etc.</td>\n",
       "    </tr>\n",
       "    <tr>\n",
       "      <th>4</th>\n",
       "      <td>Education: Bachelor's Degree in Computer Science \\nKey Skills: HTML/HTML5, CSS/CSS3, SASS, LESS, JavaScript, AngularJS, AJAX, JSON, Bootstrap, JQuery NodeJS ECMAScript 6 MongoDB Cordova and Ionic Framework (basics), Angular 2 Typescript Backbone.js and React (POCS) \\nExperience: 6+ years of experience in Web Application Development with a focus on Front-end Development; Proficiency in Software Development Life Cycle (SDLC); Hands on experience in Front-end Web Design &amp; Dev using HTML5 CSS3 JavaScript jQuery AJAX; Solid Experience of web service using Ajax for processing JSON/XML between front-end &amp; back-end; Strong Experience w/ Twitter Bootstrap 3 framework &amp; Media Query to create responsive websites; Experienced w/ Design Dev of web apps using Apache Tomcat 7.x/8.x Server; Hands-on exp handling response data from RESTful WSs using XML JSON; Used Bower as Web tools for successful implem of dependencies; Used Gulp &amp; Grunt as task runner.</td>\n",
       "      <td>Bachelor's Degree in Computer Science</td>\n",
       "      <td>HTML/HTML5, CSS/CSS3, SASS, LESS, JavaScript, AngularJS, AJAX, JSON, Bootstrap, JQuery NodeJS ECMAScript 6 MongoDB Cordova and Ionic Framework (basics), Angular 2 Typescript Backbone.js and React (POCS) \\nExperience: 6+ years of experience in Web Application Development with a focus on Front-end Development; Proficiency in Software Development Life Cycle (SDLC); Hands on experience in Front-end Web Design &amp; Dev using HTML5 CSS3 JavaScript jQuery AJAX; Solid Experience of web service using Ajax for processing JSON/XML between front-end &amp; back-end; Strong Experience w/ Twitter Bootstrap 3 framework &amp; Media Query to create responsive websites; Experienced w/ Design Dev of web apps using Apache Tomcat 7.x/8.x Server; Hands-on exp handling response data from RESTful WSs using XML JSON; Used Bower as Web tools for successful implem of dependencies; Used Gulp &amp; Grunt as task runner.</td>\n",
       "    </tr>\n",
       "    <tr>\n",
       "      <th>5</th>\n",
       "      <td>Education: B.Tech in Electronics and Communications (2013), Sri Chaitanya Junior College Hyderabad, Board of Intermediate Education (2009). \\nKey Skills: Database (3 years), Eclipse (3 years), iOS (3 years), Java (3 years), JSON. (3 years) \\nExperiences: Application Developer at IBM India Pvt. Ltd for 3+ yrs; Involved in design, development, testing, troubleshooting &amp; debugging of software; Carried out system study &amp; coordinated with team members for product documentation, system design &amp; integration; Provided post-implementation support to client w/regard to software application; Maintained integrity &amp; traceability of products as they evolve from user needs through requirement analysis etc.; Liaised with key clients &amp; acquired profitable business for providing systems support.</td>\n",
       "      <td>B.Tech in Electronics and Communications (2013), Sri Chaitanya Junior College Hyderabad, Board of Intermediate Education (2009).</td>\n",
       "      <td>Database (3 years), Eclipse (3 years), iOS (3 years), Java (3 years), JSON. (3 years) \\nExperiences: Application Developer at IBM India Pvt. Ltd for 3+ yrs; Involved in design, development, testing, troubleshooting &amp; debugging of software; Carried out system study &amp; coordinated with team members for product documentation, system design &amp; integration; Provided post-implementation support to client w/regard to software application; Maintained integrity &amp; traceability of products as they evolve from user needs through requirement analysis etc.; Liaised with key clients &amp; acquired profitable business for providing systems support.</td>\n",
       "    </tr>\n",
       "    <tr>\n",
       "      <th>6</th>\n",
       "      <td>Education: Engineering in Computer Science from JEC Jaipur. \\nKey Skills: MS Office, Libra Office, Internet Application, MS Excel 2016, HTML, SQL, Core Java. \\nExperience: 1.6 years of successful experience in position of increasing responsibility and duties; Hands on experience with various banking software such as Finacle 10; FCRM its oracle based system; People Soft; Passion to work under varied circumstances and a strong commitment towards accomplishing Individual and Organizational Objectives.</td>\n",
       "      <td>Engineering in Computer Science from JEC Jaipur.</td>\n",
       "      <td>MS Office, Libra Office, Internet Application, MS Excel 2016, HTML, SQL, Core Java. \\nExperience: 1.6 years of successful experience in position of increasing responsibility and duties; Hands on experience with various banking software such as Finacle 10; FCRM its oracle based system; People Soft; Passion to work under varied circumstances and a strong commitment towards accomplishing Individual and Organizational Objectives.</td>\n",
       "    </tr>\n",
       "    <tr>\n",
       "      <th>7</th>\n",
       "      <td>Education: B.E. in ENC from North Maharashtra University (2017). \\nKey Skills: C++, Databases, Eclipse, Essbase, Hyperion, Python and Java. \\nExperience: Associate Software Engineer at Oracle India Pvt Ltd., experience with Oracle Hyperion Products and Automation Scripting using Python and batch scripting; application maintenance and client support.</td>\n",
       "      <td>B.E. in ENC from North Maharashtra University (2017).</td>\n",
       "      <td>C++, Databases, Eclipse, Essbase, Hyperion, Python and Java. \\nExperience: Associate Software Engineer at Oracle India Pvt Ltd., experience with Oracle Hyperion Products and Automation Scripting using Python and batch scripting; application maintenance and client support.</td>\n",
       "    </tr>\n",
       "    <tr>\n",
       "      <th>8</th>\n",
       "      <td>Education: B.Tech, Institute of Road and Transport (May-October 1980) \\nKey Skills: Core Java, JavaScript, OOJS, HTML 4/5, CSS 3, DOJO, Angular JS , REST Web services \\nExperience: Lead Engineer at Cisco (June 2014 - Present); Senior Systems Engineer at Finacle Industry Banking Client Universal Banking Product from Infosys (June 2012 - June 2014); Systems Engineer at Finacle Industry Banking Client Universal Banking Product from Infosys (October 2011 - May 2012). Responsibilities included front end enhancements for the core product; discussing and finalizing UI screens with functional and design teams; writing validation routines; regression testing using Service Testing Framework.</td>\n",
       "      <td>B.Tech, Institute of Road and Transport (May-October 1980)</td>\n",
       "      <td>Core Java, JavaScript, OOJS, HTML 4/5, CSS 3, DOJO, Angular JS , REST Web services \\nExperience: Lead Engineer at Cisco (June 2014 - Present); Senior Systems Engineer at Finacle Industry Banking Client Universal Banking Product from Infosys (June 2012 - June 2014); Systems Engineer at Finacle Industry Banking Client Universal Banking Product from Infosys (October 2011 - May 2012). Responsibilities included front end enhancements for the core product; discussing and finalizing UI screens with functional and design teams; writing validation routines; regression testing using Service Testing Framework.</td>\n",
       "    </tr>\n",
       "    <tr>\n",
       "      <th>9</th>\n",
       "      <td>Education: PGDBM in Business Management from Narsee Monji. \\nKey Skills: Datawarehouse/Business Intelligence, Agile Methodologies, Program Management, Product Roadmap, Stakeholder Management and Risk Management. \\nExperience: 15+ years of experience in IT &amp; Services Industry with multiple roles such as DevOps Architect, Program Manager/Product Owner and Consultant. Delivered engagements in US, UK etc., built analytical platforms and solutions using .Net MVC API etc., expertise on Quality Assurance &amp; Continuous Quality Process setup &amp; implementation and Presales.</td>\n",
       "      <td>PGDBM in Business Management from Narsee Monji.</td>\n",
       "      <td>Datawarehouse/Business Intelligence, Agile Methodologies, Program Management, Product Roadmap, Stakeholder Management and Risk Management. \\nExperience: 15+ years of experience in IT &amp; Services Industry with multiple roles such as DevOps Architect, Program Manager/Product Owner and Consultant. Delivered engagements in US, UK etc., built analytical platforms and solutions using .Net MVC API etc., expertise on Quality Assurance &amp; Continuous Quality Process setup &amp; implementation and Presales.</td>\n",
       "    </tr>\n",
       "  </tbody>\n",
       "</table>\n",
       "</div>"
      ],
      "text/plain": [
       "                                                                                                                                                                                                                                                                                                                                                                                                                                                                                                                                                                                                                                                                                                                                                                                                                                                                                                                                                                                 Extracted  \\\n",
       "0                                                                                                                                                                                  Education: BE from NMAM Institute of Technology, Poorna Prajna PU College Admar and Ganapathi High School Padubidri. \\nKey Skills: C programming basics, Core java, SQL/PLSQL, Quick learner and team player, Good communication skills, Art of convincing and Public speaking. \\nExperience: 3 months trining at Infosys; Effectiveness Lab Organizational Effectiveness Labs and Immersive Group Workshop conducted by I-Point Consulting Services Private Limited during the Academic Years 2009-10 & 2010-11; Successfully completed ' Feel Employable' Learning And Development Intervention conducted by AIM INSIGHTS Mangalore; 7 Seminars given on Enzymatic Hydrolysis of Complex Carbohydrates to produce Fermentable and Digestible Sugars; 8 Seminars attended on Microbial Polysaccarides.   \n",
       "1                                                                                                                                                                                                                                                                                                                                                                                                                                                                                                                                                                                                                                           Education: B.E. in E&TC (2015), Diploma (2012), SSC (2009). Key Skills: C, CSS, Database, Dot, Java. Experiences: Fresher; B.E Project - Designer and Tester; Diploma Project - Designer and Tester; Certifications/Licenses - SCTS dot net developer & PSTS software tester; Other Technical Skills - Basic Java, CSS, C#, SQL MVC & Dot Net.   \n",
       "2                                                                                                                                                                                                                                       Education: PGDBM from Narsee Monjee Institute of Management Studies (2017-2018) \\nKey Skills: Microsoft Azure SQL DW, Azure Data Factory, SQL Server 2016, Power BI dashboard, Rest API; Program Management (2 years), Product Management (2 years), Quality Assurance (10+ years), Business intelligence, Devops; Visual Studio 2012, Microsoft Test Manager 2012, Azure, Test Automation using Coded UI, Unit Test Framework; Scrum Product Owner & Master. \\nExperience: 10+ yrs in Quality Assurance with roles such as Architect at Microsoft India for 5 yrs and Sr Consultant for 4 yrs. Managed test teams for Data Warehouse/SQL Server BI projects & .Net App Development Projects. Played role of Test Lead/Manager in all engagements.   \n",
       "3                                                                                                                                                                                                                                                                                                                                                                          Education: Bachelor Of Technology in insurance from SRIKALAHASTEESWARA INSTITUTE OF TECHNOLOGY \\nKey Skills: file systems, Linux, maintenance, scheduling \\nExperience: 2.1 years of Experience in IT; Currently working as a Linux Administration at Infosys; Knowledge in installing and maintenance and troubleshooting Linux Operating Systems; Installation, Configuration, Maintenance and Administration of Red Hat Enterprise 5/6; Checking CPU Utilization, Memory Utilization & Disk Utilization for performance monitoring; Managing User Administration; Creating new file systems through LVM etc.   \n",
       "4  Education: Bachelor's Degree in Computer Science \\nKey Skills: HTML/HTML5, CSS/CSS3, SASS, LESS, JavaScript, AngularJS, AJAX, JSON, Bootstrap, JQuery NodeJS ECMAScript 6 MongoDB Cordova and Ionic Framework (basics), Angular 2 Typescript Backbone.js and React (POCS) \\nExperience: 6+ years of experience in Web Application Development with a focus on Front-end Development; Proficiency in Software Development Life Cycle (SDLC); Hands on experience in Front-end Web Design & Dev using HTML5 CSS3 JavaScript jQuery AJAX; Solid Experience of web service using Ajax for processing JSON/XML between front-end & back-end; Strong Experience w/ Twitter Bootstrap 3 framework & Media Query to create responsive websites; Experienced w/ Design Dev of web apps using Apache Tomcat 7.x/8.x Server; Hands-on exp handling response data from RESTful WSs using XML JSON; Used Bower as Web tools for successful implem of dependencies; Used Gulp & Grunt as task runner.   \n",
       "5                                                                                                                                                                     Education: B.Tech in Electronics and Communications (2013), Sri Chaitanya Junior College Hyderabad, Board of Intermediate Education (2009). \\nKey Skills: Database (3 years), Eclipse (3 years), iOS (3 years), Java (3 years), JSON. (3 years) \\nExperiences: Application Developer at IBM India Pvt. Ltd for 3+ yrs; Involved in design, development, testing, troubleshooting & debugging of software; Carried out system study & coordinated with team members for product documentation, system design & integration; Provided post-implementation support to client w/regard to software application; Maintained integrity & traceability of products as they evolve from user needs through requirement analysis etc.; Liaised with key clients & acquired profitable business for providing systems support.   \n",
       "6                                                                                                                                                                                                                                                                                                                                                                                                                                                                  Education: Engineering in Computer Science from JEC Jaipur. \\nKey Skills: MS Office, Libra Office, Internet Application, MS Excel 2016, HTML, SQL, Core Java. \\nExperience: 1.6 years of successful experience in position of increasing responsibility and duties; Hands on experience with various banking software such as Finacle 10; FCRM its oracle based system; People Soft; Passion to work under varied circumstances and a strong commitment towards accomplishing Individual and Organizational Objectives.   \n",
       "7                                                                                                                                                                                                                                                                                                                                                                                                                                                                                                                                                                                                                          Education: B.E. in ENC from North Maharashtra University (2017). \\nKey Skills: C++, Databases, Eclipse, Essbase, Hyperion, Python and Java. \\nExperience: Associate Software Engineer at Oracle India Pvt Ltd., experience with Oracle Hyperion Products and Automation Scripting using Python and batch scripting; application maintenance and client support.   \n",
       "8                                                                                                                                                                                                                                                                       Education: B.Tech, Institute of Road and Transport (May-October 1980) \\nKey Skills: Core Java, JavaScript, OOJS, HTML 4/5, CSS 3, DOJO, Angular JS , REST Web services \\nExperience: Lead Engineer at Cisco (June 2014 - Present); Senior Systems Engineer at Finacle Industry Banking Client Universal Banking Product from Infosys (June 2012 - June 2014); Systems Engineer at Finacle Industry Banking Client Universal Banking Product from Infosys (October 2011 - May 2012). Responsibilities included front end enhancements for the core product; discussing and finalizing UI screens with functional and design teams; writing validation routines; regression testing using Service Testing Framework.   \n",
       "9                                                                                                                                                                                                                                                                                                                                                                                                 Education: PGDBM in Business Management from Narsee Monji. \\nKey Skills: Datawarehouse/Business Intelligence, Agile Methodologies, Program Management, Product Roadmap, Stakeholder Management and Risk Management. \\nExperience: 15+ years of experience in IT & Services Industry with multiple roles such as DevOps Architect, Program Manager/Product Owner and Consultant. Delivered engagements in US, UK etc., built analytical platforms and solutions using .Net MVC API etc., expertise on Quality Assurance & Continuous Quality Process setup & implementation and Presales.   \n",
       "\n",
       "                                                                                                                          Education  \\\n",
       "0                         BE from NMAM Institute of Technology, Poorna Prajna PU College Admar and Ganapathi High School Padubidri.   \n",
       "1                                                                                  B.E. in E&TC (2015), Diploma (2012), SSC (2009).   \n",
       "2                                                              PGDBM from Narsee Monjee Institute of Management Studies (2017-2018)   \n",
       "3                                               Bachelor Of Technology in insurance from SRIKALAHASTEESWARA INSTITUTE OF TECHNOLOGY   \n",
       "4                                                                                             Bachelor's Degree in Computer Science   \n",
       "5  B.Tech in Electronics and Communications (2013), Sri Chaitanya Junior College Hyderabad, Board of Intermediate Education (2009).   \n",
       "6                                                                                  Engineering in Computer Science from JEC Jaipur.   \n",
       "7                                                                             B.E. in ENC from North Maharashtra University (2017).   \n",
       "8                                                                        B.Tech, Institute of Road and Transport (May-October 1980)   \n",
       "9                                                                                   PGDBM in Business Management from Narsee Monji.   \n",
       "\n",
       "                                                                                                                                                                                                                                                                                                                                                                                                                                                                                                                                                                                                                                                                                                                                                                                                                                                                                                        Skills & Experience  \n",
       "0                                                                                                                                                                                                                                                      C programming basics, Core java, SQL/PLSQL, Quick learner and team player, Good communication skills, Art of convincing and Public speaking. \\nExperience: 3 months trining at Infosys; Effectiveness Lab Organizational Effectiveness Labs and Immersive Group Workshop conducted by I-Point Consulting Services Private Limited during the Academic Years 2009-10 & 2010-11; Successfully completed ' Feel Employable' Learning And Development Intervention conducted by AIM INSIGHTS Mangalore; 7 Seminars given on Enzymatic Hydrolysis of Complex Carbohydrates to produce Fermentable and Digestible Sugars; 8 Seminars attended on Microbial Polysaccarides.  \n",
       "1                                                                                                                                                                                                                                                                                                                                                                                                                                                                                                                                                                                                                                                    C, CSS, Database, Dot, Java. Experiences: Fresher; B.E Project - Designer and Tester; Diploma Project - Designer and Tester; Certifications/Licenses - SCTS dot net developer & PSTS software tester; Other Technical Skills - Basic Java, CSS, C#, SQL MVC & Dot Net.  \n",
       "2                                                                                                                                                                                                                                                                      Microsoft Azure SQL DW, Azure Data Factory, SQL Server 2016, Power BI dashboard, Rest API; Program Management (2 years), Product Management (2 years), Quality Assurance (10+ years), Business intelligence, Devops; Visual Studio 2012, Microsoft Test Manager 2012, Azure, Test Automation using Coded UI, Unit Test Framework; Scrum Product Owner & Master. \\nExperience: 10+ yrs in Quality Assurance with roles such as Architect at Microsoft India for 5 yrs and Sr Consultant for 4 yrs. Managed test teams for Data Warehouse/SQL Server BI projects & .Net App Development Projects. Played role of Test Lead/Manager in all engagements.  \n",
       "3                                                                                                                                                                                                                                                                                                                                                                                                                        file systems, Linux, maintenance, scheduling \\nExperience: 2.1 years of Experience in IT; Currently working as a Linux Administration at Infosys; Knowledge in installing and maintenance and troubleshooting Linux Operating Systems; Installation, Configuration, Maintenance and Administration of Red Hat Enterprise 5/6; Checking CPU Utilization, Memory Utilization & Disk Utilization for performance monitoring; Managing User Administration; Creating new file systems through LVM etc.  \n",
       "4  HTML/HTML5, CSS/CSS3, SASS, LESS, JavaScript, AngularJS, AJAX, JSON, Bootstrap, JQuery NodeJS ECMAScript 6 MongoDB Cordova and Ionic Framework (basics), Angular 2 Typescript Backbone.js and React (POCS) \\nExperience: 6+ years of experience in Web Application Development with a focus on Front-end Development; Proficiency in Software Development Life Cycle (SDLC); Hands on experience in Front-end Web Design & Dev using HTML5 CSS3 JavaScript jQuery AJAX; Solid Experience of web service using Ajax for processing JSON/XML between front-end & back-end; Strong Experience w/ Twitter Bootstrap 3 framework & Media Query to create responsive websites; Experienced w/ Design Dev of web apps using Apache Tomcat 7.x/8.x Server; Hands-on exp handling response data from RESTful WSs using XML JSON; Used Bower as Web tools for successful implem of dependencies; Used Gulp & Grunt as task runner.  \n",
       "5                                                                                                                                                                                                                                                                Database (3 years), Eclipse (3 years), iOS (3 years), Java (3 years), JSON. (3 years) \\nExperiences: Application Developer at IBM India Pvt. Ltd for 3+ yrs; Involved in design, development, testing, troubleshooting & debugging of software; Carried out system study & coordinated with team members for product documentation, system design & integration; Provided post-implementation support to client w/regard to software application; Maintained integrity & traceability of products as they evolve from user needs through requirement analysis etc.; Liaised with key clients & acquired profitable business for providing systems support.  \n",
       "6                                                                                                                                                                                                                                                                                                                                                                                                                                                                             MS Office, Libra Office, Internet Application, MS Excel 2016, HTML, SQL, Core Java. \\nExperience: 1.6 years of successful experience in position of increasing responsibility and duties; Hands on experience with various banking software such as Finacle 10; FCRM its oracle based system; People Soft; Passion to work under varied circumstances and a strong commitment towards accomplishing Individual and Organizational Objectives.  \n",
       "7                                                                                                                                                                                                                                                                                                                                                                                                                                                                                                                                                                                                                                          C++, Databases, Eclipse, Essbase, Hyperion, Python and Java. \\nExperience: Associate Software Engineer at Oracle India Pvt Ltd., experience with Oracle Hyperion Products and Automation Scripting using Python and batch scripting; application maintenance and client support.  \n",
       "8                                                                                                                                                                                                                                                                                            Core Java, JavaScript, OOJS, HTML 4/5, CSS 3, DOJO, Angular JS , REST Web services \\nExperience: Lead Engineer at Cisco (June 2014 - Present); Senior Systems Engineer at Finacle Industry Banking Client Universal Banking Product from Infosys (June 2012 - June 2014); Systems Engineer at Finacle Industry Banking Client Universal Banking Product from Infosys (October 2011 - May 2012). Responsibilities included front end enhancements for the core product; discussing and finalizing UI screens with functional and design teams; writing validation routines; regression testing using Service Testing Framework.  \n",
       "9                                                                                                                                                                                                                                                                                                                                                                                                           Datawarehouse/Business Intelligence, Agile Methodologies, Program Management, Product Roadmap, Stakeholder Management and Risk Management. \\nExperience: 15+ years of experience in IT & Services Industry with multiple roles such as DevOps Architect, Program Manager/Product Owner and Consultant. Delivered engagements in US, UK etc., built analytical platforms and solutions using .Net MVC API etc., expertise on Quality Assurance & Continuous Quality Process setup & implementation and Presales.  "
      ]
     },
     "execution_count": 118,
     "metadata": {},
     "output_type": "execute_result"
    }
   ],
   "source": [
    "df_match_resume = pd.DataFrame(resume_match, columns =['Extracted', 'Education', 'Skills & Experience'], dtype = str)\n",
    "df_match_resume"
   ]
  },
  {
   "cell_type": "code",
   "execution_count": 119,
   "id": "ac210fc4",
   "metadata": {},
   "outputs": [],
   "source": [
    "df_match_resume.to_csv('df_match_resume.csv', index = True)"
   ]
  },
  {
   "cell_type": "code",
   "execution_count": null,
   "id": "283ef1eb",
   "metadata": {},
   "outputs": [],
   "source": []
  },
  {
   "cell_type": "code",
   "execution_count": null,
   "id": "c15c7da7",
   "metadata": {},
   "outputs": [],
   "source": []
  }
 ],
 "metadata": {
  "kernelspec": {
   "display_name": "gpu",
   "language": "python",
   "name": "gpu"
  },
  "language_info": {
   "codemirror_mode": {
    "name": "ipython",
    "version": 3
   },
   "file_extension": ".py",
   "mimetype": "text/x-python",
   "name": "python",
   "nbconvert_exporter": "python",
   "pygments_lexer": "ipython3",
   "version": "3.8.16"
  }
 },
 "nbformat": 4,
 "nbformat_minor": 5
}
